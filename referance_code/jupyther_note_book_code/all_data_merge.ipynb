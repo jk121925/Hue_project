{
 "cells": [
  {
   "cell_type": "code",
   "execution_count": null,
   "metadata": {},
   "outputs": [],
   "source": [
    "import pandas as pd\n",
    "\n",
    "#data open using pandas type Dataframe\n",
    "df_standard = pd.read_csv ('fd_origin.csv', encoding = 'cp949')\n",
    "df_to_add = pd.read_csv ('fd_2018_5.csv', encoding = 'cp949')\n",
    "\n",
    "#df_samsung_0 = df_standard[df_standard['code']==5930]\n",
    "#df_samsung_1 = df_to_add[df_to_add['code']==5930]\n",
    "\n",
    "#Extract key value from df_to_add\n",
    "df_to_add_key = df_to_add[['y2017','y2018']]\n",
    "\n",
    "#df_to_add_listing\n",
    "df_to_add_list =[]\n",
    "for i in range(len(df_to_add)):\n",
    "    data_2017 = df_to_add_key.iloc[i,0]\n",
    "    data_2018 = df_to_add_key.iloc[i,1]\n",
    "    df_to_add_list.append([data_2017,data_2018])\n",
    "\n",
    "#df_standard_listing\n",
    "df_standard_list = []\n",
    "for i in range(len(df_standard)):\n",
    "    index_data_2017 = df_standard.iloc[i,7]\n",
    "    df_standard_list.append(index_data_2017)\n",
    "\n",
    "#merge data\n",
    "for i in range(len(df_standard_list)):\n",
    "    for j in range(len(df_to_add_list)):\n",
    "        index_data = df_standard_list[i]\n",
    "        if index_data == df_to_add_list[j][0] : df_standard_list[i] = [index_data, df_to_add_list[j][1]]\n",
    "for i in range(len(df_standard_list)):\n",
    "    non_data = df_standard_list[i]\n",
    "    if type(df_standard_list[i]) != list : df_standard_list[i] = [non_data,0]\n",
    "\n",
    "# setting with copy warning\n",
    "df_dummy = df_standard.copy()\n",
    "\n",
    "# merge data using df_standard\n",
    "for i in range(len(df_standard)):\n",
    "    origin_index = df_standard.iloc[i,7]\n",
    "    refer_index = df_standard.iloc[i,8]\n",
    "    for j in range(len(df_standard_list)):\n",
    "        match_index = df_standard_list[j][0]\n",
    "        new_index = df_standard_list[j][1]\n",
    "        if origin_index == match_index and df_standard.iloc[i,4] != 'SCF':  df_dummy.iloc[i,8] = new_index\n",
    "        elif origin_index == match_index and df_standard.iloc[i,4] == 'SCF':  df_dummy.iloc[i,8] = refer_index\n",
    "\n",
    "df_dummy"
   ]
  }
 ],
 "metadata": {
  "kernelspec": {
   "display_name": "Python 3",
   "language": "python",
   "name": "python3"
  },
  "language_info": {
   "codemirror_mode": {
    "name": "ipython",
    "version": 3
   },
   "file_extension": ".py",
   "mimetype": "text/x-python",
   "name": "python",
   "nbconvert_exporter": "python",
   "pygments_lexer": "ipython3",
   "version": "3.7.6"
  }
 },
 "nbformat": 4,
 "nbformat_minor": 4
}
